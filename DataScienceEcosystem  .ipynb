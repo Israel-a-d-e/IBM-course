{
 "cells": [
  {
   "cell_type": "markdown",
   "id": "49649397",
   "metadata": {},
   "source": [
    "# Data Science Tools and Ecosystem"
   ]
  },
  {
   "cell_type": "markdown",
   "id": "36ad427f",
   "metadata": {},
   "source": [
    "\n",
    "### In this notebook, Data Science Tools and Ecosystem are summarized.\n",
    "\n",
    "\n",
    "\n",
    "\n",
    "\n",
    "## **Objectives:**\n",
    "- List popular languages for Data Science\n",
    "- List common libraries used by Data Scientists\n",
    "- Evaluating Arithmetric Expressions"
   ]
  },
  {
   "cell_type": "markdown",
   "id": "aa45978a",
   "metadata": {},
   "source": [
    "### Some of the popular languages that Data Scientists use are:\n",
    "1. Python\n",
    "2. Java\n",
    "3. C++"
   ]
  },
  {
   "cell_type": "markdown",
   "id": "e18b6bc6",
   "metadata": {},
   "source": [
    "### Some of the commonly used libraries used by Data Scientists include:\n",
    "1. SciPy\n",
    "2. NumPy\n",
    "3. Pandas"
   ]
  },
  {
   "cell_type": "markdown",
   "id": "6cb233da",
   "metadata": {},
   "source": [
    "| Data Science Tools |\n",
    "| ------------ |\n",
    "|Jupyter Notebook |\n",
    "| Matplotlib |\n",
    "| Tensor Flow |"
   ]
  },
  {
   "cell_type": "markdown",
   "id": "039ed42d",
   "metadata": {},
   "source": [
    "### Below are a few examples of evaluating arithmetic expressions in Python"
   ]
  },
  {
   "cell_type": "code",
   "execution_count": 22,
   "id": "e5348aa3",
   "metadata": {},
   "outputs": [
    {
     "name": "stdout",
     "output_type": "stream",
     "text": [
      "The answer is 17\n"
     ]
    }
   ],
   "source": [
    "\n",
    "# This a simple arithmetic expression to mutiply then add integers\n",
    "A = 3\n",
    "B = 5\n",
    "C = 4\n",
    "answer = (A *C )+ B\n",
    "print (\"The answer is\",answer)"
   ]
  },
  {
   "cell_type": "code",
   "execution_count": 25,
   "id": "623869b3",
   "metadata": {
    "scrolled": true
   },
   "outputs": [
    {
     "name": "stdout",
     "output_type": "stream",
     "text": [
      "200 minutes gives 3.3333333333333335 hours\n"
     ]
    }
   ],
   "source": [
    "# This will convert 200 minutes to hours by diving by 60\n",
    "G = 200\n",
    "F = 200/60\n",
    "print(G, \"minutes gives\", F, \"hours\")"
   ]
  },
  {
   "cell_type": "markdown",
   "id": "6c90df3f",
   "metadata": {},
   "source": [
    "## Author\n",
    "Israel"
   ]
  }
 ],
 "metadata": {
  "kernelspec": {
   "display_name": "Python 3 (ipykernel)",
   "language": "python",
   "name": "python3"
  },
  "language_info": {
   "codemirror_mode": {
    "name": "ipython",
    "version": 3
   },
   "file_extension": ".py",
   "mimetype": "text/x-python",
   "name": "python",
   "nbconvert_exporter": "python",
   "pygments_lexer": "ipython3",
   "version": "3.11.5"
  }
 },
 "nbformat": 4,
 "nbformat_minor": 5
}
